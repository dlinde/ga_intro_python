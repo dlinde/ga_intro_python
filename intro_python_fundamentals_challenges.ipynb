{
 "cells": [
  {
   "cell_type": "markdown",
   "metadata": {},
   "source": [
    "### Programming Fundamentals Framework\n",
    "\n",
    "The core components of Python.\n",
    "\n",
    "* Syntax\n",
    "    * The set of rules that define the combinations of symbols that are considered to be correctly structured programs in that language.\n",
    "* Variables\n",
    "    * How computers store information\n",
    "* Control Structures\n",
    "    * Sets the hierarchy/priorities of programming logic\n",
    "* Data Structures\n",
    "    * How computers store and organize data\n"
   ]
  },
  {
   "cell_type": "code",
   "execution_count": null,
   "metadata": {},
   "outputs": [],
   "source": [
    "# what are you seeing here? Take a couple minutes to look at this.\n",
    "\n",
    "# what is some syntax you can infer from looking at this?\n",
    "# what are some variables in the code below?\n",
    "# what looks like an example of a control structure?\n",
    "# what looks like an example of a data structure?\n",
    "\n",
    "midpoint = 5 \n",
    "\n",
    "lower = [] \n",
    "upper = []\n",
    "\n",
    "for i in range(0,10):       \n",
    "    if (i < midpoint):  \n",
    "        lower.append(i)  \n",
    "    else:                \n",
    "        upper.append(i)  \n",
    "          \n",
    "print(\"lower:\", lower)\n",
    "print(\"upper:\", upper)"
   ]
  },
  {
   "cell_type": "markdown",
   "metadata": {},
   "source": [
    "### variables: symbolic names that each store some specific piece of information.\n",
    "* names are cases sensitive\n",
    "* the = assignment operator defines variable\n",
    "* variables can be many different types "
   ]
  },
  {
   "cell_type": "code",
   "execution_count": null,
   "metadata": {},
   "outputs": [],
   "source": [
    "\n",
    "midpoint = 5 \n",
    "print(type(midpoint))\n",
    "\n",
    "\n",
    "\n",
    "midpoint = 5.0\n",
    "print(type(midpoint))\n",
    "midpoint = '5'\n",
    "print(type(midpoint))\n",
    "midpoint = True\n",
    "print(type(midpoint))\n",
    "\n",
    "# each time we assign the variable midpoint, we overwrite it\n",
    "# what does midpoint equal after running this block?"
   ]
  },
  {
   "cell_type": "markdown",
   "metadata": {},
   "source": [
    "### Data Structures\n",
    "* Each data structure is a particular way of storing and organizing data in a computer \n",
    "* '[ ]' are used for lists"
   ]
  },
  {
   "cell_type": "code",
   "execution_count": null,
   "metadata": {
    "collapsed": true
   },
   "outputs": [],
   "source": [
    "# assigning empty lists to variable\n",
    "lower = [] \n",
    "upper = []"
   ]
  },
  {
   "cell_type": "code",
   "execution_count": null,
   "metadata": {},
   "outputs": [],
   "source": [
    "# lists are mutable - note below that .append is a built-in method we can use to modify lists\n",
    "lower.append(5)\n",
    "lower"
   ]
  },
  {
   "cell_type": "code",
   "execution_count": null,
   "metadata": {},
   "outputs": [],
   "source": [
    "# lists can also be 'sliced' by passing in an index to get specific elements\n",
    "my_list = ['Dimitri', 'Linde']\n",
    "my_list[1]"
   ]
  },
  {
   "cell_type": "markdown",
   "metadata": {},
   "source": [
    "### Control-flow statement \n",
    "\n",
    "A block of programming that analyzes variables and chooses which code to execute next based on logical conditions.. The main control flow statements are for, if/elif/else, and while."
   ]
  },
  {
   "cell_type": "code",
   "execution_count": null,
   "metadata": {},
   "outputs": [],
   "source": [
    "# syntax: note the indented block after the for loop. Indented blocks are always preceded by a ':'\n",
    "\n",
    "# range is a built-in function that provides a range of numbers to iterate through\n",
    "# i is a variable we use to iterate through the range; we could call it anything\n",
    "\n",
    "for i in range(0,10):\n",
    "    print(i)"
   ]
  },
  {
   "cell_type": "code",
   "execution_count": null,
   "metadata": {},
   "outputs": [],
   "source": [
    "i = 7\n",
    "midpoint = 5\n",
    "lower = []\n",
    "\n",
    "# If the condition evaluates to true, run the code block\n",
    "if i < midpoint:   \n",
    "    lower.append(i)\n",
    "    \n",
    "lower\n",
    "    \n",
    "# Note the comparison operator (<) here. We could change the result by changing the operators to less than or equal \n",
    "# to (<=), equal to (==), not equal to (!=), etc."
   ]
  },
  {
   "cell_type": "code",
   "execution_count": null,
   "metadata": {},
   "outputs": [],
   "source": [
    "# if statements commonly have some alternative condition\n",
    "i = 7\n",
    "upper=[]\n",
    "\n",
    "if (i < midpoint):   \n",
    "    lower.append(i) \n",
    "else:\n",
    "    upper.append(i)\n",
    "    \n",
    "upper"
   ]
  },
  {
   "cell_type": "code",
   "execution_count": null,
   "metadata": {},
   "outputs": [],
   "source": [
    "# putting this all together\n",
    "\n",
    "# set the midpoint  variable\n",
    "midpoint = 5 \n",
    "\n",
    "# make two empty lists\n",
    "lower = [] \n",
    "upper = []\n",
    "\n",
    "# split the numbers into lower and upper\n",
    "\n",
    "for i in range(0,10):       \n",
    "    if (i < midpoint):  \n",
    "        lower.append(i)  \n",
    "    else:                \n",
    "        upper.append(i)  \n",
    "        \n",
    "# print the results     \n",
    "print(\"lower:\", lower)\n",
    "print(\"upper:\", upper)"
   ]
  },
  {
   "cell_type": "markdown",
   "metadata": {},
   "source": [
    "### Functions\n",
    "* a block of code which only runs when it is called\n",
    "* typically we pass data, known as parameters, into a function (inside the parentheses)\n",
    "* in functions, we'll typically modify or create a new variable and want to return it\n",
    "* we use functions because they're abstractions of common tasks that make code more reusable\n",
    "* functions need to be defined before they can be executed"
   ]
  },
  {
   "cell_type": "code",
   "execution_count": null,
   "metadata": {
    "collapsed": true
   },
   "outputs": [],
   "source": [
    "def my_function():\n",
    "    print('you called me!')"
   ]
  },
  {
   "cell_type": "code",
   "execution_count": null,
   "metadata": {},
   "outputs": [],
   "source": [
    "my_function()"
   ]
  },
  {
   "cell_type": "code",
   "execution_count": null,
   "metadata": {
    "collapsed": true
   },
   "outputs": [],
   "source": [
    "def my_function(name):\n",
    "    print(str(name)+', you called me!')"
   ]
  },
  {
   "cell_type": "code",
   "execution_count": null,
   "metadata": {},
   "outputs": [],
   "source": [
    "my_function('Carol')"
   ]
  },
  {
   "cell_type": "code",
   "execution_count": null,
   "metadata": {
    "collapsed": true
   },
   "outputs": [],
   "source": [
    "# provide two scorelines\n",
    "def football_score(pats_score, rams_score):\n",
    "    # add them together\n",
    "    total_points = pats_score+rams_score\n",
    "    # return the sum\n",
    "    return total_points"
   ]
  },
  {
   "cell_type": "code",
   "execution_count": null,
   "metadata": {},
   "outputs": [],
   "source": [
    "points = football_score(27,5)\n",
    "points"
   ]
  },
  {
   "cell_type": "code",
   "execution_count": null,
   "metadata": {
    "collapsed": true
   },
   "outputs": [],
   "source": [
    "# I'm writing out the steps to creating my function using pseudocode to help me think about the python code to write\n",
    "\n",
    "def two_lists(min_number, max_number):\n",
    "    # set a midpoint  variable\n",
    "\n",
    "    # make two empty lists\n",
    " \n",
    "    # iterate through each number in a range of numbers\n",
    "\n",
    "    # if the number is less than the midpoint\n",
    "\n",
    "            # append it to the lower list\n",
    "\n",
    "            #otherwise, append it to the upper list\n",
    "            \n",
    "    # return both lists\n"
   ]
  },
  {
   "cell_type": "code",
   "execution_count": null,
   "metadata": {},
   "outputs": [],
   "source": [
    "lesser_list, greater_list = two_lists(150,170)\n",
    "print(lesser_list)\n",
    "print(greater_list)"
   ]
  },
  {
   "cell_type": "markdown",
   "metadata": {},
   "source": [
    "# Challenge Problems 1"
   ]
  },
  {
   "cell_type": "markdown",
   "metadata": {},
   "source": [
    "### Create a variable holding a string and output it using print. \n",
    "* The print function requires parentheses in python 3"
   ]
  },
  {
   "cell_type": "code",
   "execution_count": null,
   "metadata": {
    "collapsed": true
   },
   "outputs": [],
   "source": []
  },
  {
   "cell_type": "markdown",
   "metadata": {},
   "source": [
    "### Create a variable holding a float and add it to a variable holding an integer.\n",
    "* Float values have a decimal place"
   ]
  },
  {
   "cell_type": "code",
   "execution_count": null,
   "metadata": {
    "collapsed": true
   },
   "outputs": [],
   "source": []
  },
  {
   "cell_type": "markdown",
   "metadata": {},
   "source": [
    "### Create a list including your first and last name and index the list to print your first name\n",
    "* subset items in list by passing a numeric index into brackets\n",
    "```\n",
    "my_list[1]\n",
    "```"
   ]
  },
  {
   "cell_type": "code",
   "execution_count": null,
   "metadata": {
    "collapsed": true
   },
   "outputs": [],
   "source": []
  },
  {
   "cell_type": "markdown",
   "metadata": {},
   "source": [
    "### Create a variable containing a number for bag weight and write an if condition that yields one charge if the weight is less than 50 and another charge if the weight is more than 50\n",
    "\n",
    "When the `if` statement is run, the expression is evaluated to `True` or `False`. If the expression evaluates to `True`, the code block is run; otherwise, it is skipped. In many cases, you may want to run some code if the expression evaluates to `True` and some different code if it evaluates to `False`. This is done using `else`.\n",
    "\n",
    "```if <expression>:\n",
    "    <one or more indented lines>\n",
    "else<expression>:\n",
    "    <one or more indented lines>```"
   ]
  },
  {
   "cell_type": "code",
   "execution_count": null,
   "metadata": {
    "collapsed": true
   },
   "outputs": [],
   "source": []
  },
  {
   "cell_type": "markdown",
   "metadata": {},
   "source": [
    "### Use a for loop to add each number in a range to an integer variable and print the total\n",
    "* The range function takes a start value and a stop value\n",
    "\n",
    "\n",
    "The `for` loop allows you to perform a task repeatedly on every element within an object, such as every name in a list.\n",
    "In pseudocode:\n",
    "\n",
    "```python\n",
    "# For each individual object in the list\n",
    "    # perform task_A on said object.\n",
    "    # Once task_A has been completed, move to next object in the list.\n",
    "```"
   ]
  },
  {
   "cell_type": "code",
   "execution_count": null,
   "metadata": {
    "collapsed": true
   },
   "outputs": [],
   "source": [
    "\n"
   ]
  },
  {
   "cell_type": "markdown",
   "metadata": {},
   "source": [
    "### Turn your if statement into a function\n",
    "\n",
    "Within a function, we can write a large block of action and then call the function whenever we want to use it.  \n",
    "\n",
    "\n",
    "In pseudocode:\n",
    "\n",
    "```python\n",
    "# Define the function name and the requirements it needs.\n",
    "    # Perform actions.\n",
    "    # Optional: Return output.\n",
    "```"
   ]
  },
  {
   "cell_type": "code",
   "execution_count": null,
   "metadata": {
    "collapsed": true
   },
   "outputs": [],
   "source": []
  },
  {
   "cell_type": "markdown",
   "metadata": {
    "collapsed": true
   },
   "source": [
    "# Challenge Problems 2\n",
    "* Hints\n",
    "    * In python, float(4) yields 4.0\n",
    "    * The % (modulo) operator yields the remainder from the division of the first argument by the second.\n",
    "    * Be sure to include a return statement in your function"
   ]
  },
  {
   "cell_type": "markdown",
   "metadata": {},
   "source": [
    "### Create a string variable and an integer variable, then concatenate them together (e.g. ’15dog’) and print the result"
   ]
  },
  {
   "cell_type": "code",
   "execution_count": null,
   "metadata": {
    "collapsed": true
   },
   "outputs": [],
   "source": []
  },
  {
   "cell_type": "markdown",
   "metadata": {},
   "source": [
    "### Create a dictionary with cats as a key and a list of ‘tabby’ and ‘maine coon’ as the corresponding values, then return ‘maine coon’ from the dictionary\n"
   ]
  },
  {
   "cell_type": "code",
   "execution_count": null,
   "metadata": {
    "collapsed": true
   },
   "outputs": [],
   "source": []
  },
  {
   "cell_type": "markdown",
   "metadata": {},
   "source": [
    "### Use a for loop to iterate through a range of numbers between 0 and 100 and print the sum of numbers divisible by 5\n"
   ]
  },
  {
   "cell_type": "code",
   "execution_count": null,
   "metadata": {
    "collapsed": true
   },
   "outputs": [],
   "source": []
  },
  {
   "cell_type": "markdown",
   "metadata": {},
   "source": [
    "### Write a function that takes two years that *should be numeric* as inputs, calculates the delta between them, and returns the delta, unless the computation would produce an error, in which case return 0"
   ]
  },
  {
   "cell_type": "code",
   "execution_count": null,
   "metadata": {
    "collapsed": true
   },
   "outputs": [],
   "source": []
  }
 ],
 "metadata": {
  "kernelspec": {
   "display_name": "Python 3",
   "language": "python",
   "name": "python3"
  },
  "language_info": {
   "codemirror_mode": {
    "name": "ipython",
    "version": 3
   },
   "file_extension": ".py",
   "mimetype": "text/x-python",
   "name": "python",
   "nbconvert_exporter": "python",
   "pygments_lexer": "ipython3",
   "version": "3.7.4"
  }
 },
 "nbformat": 4,
 "nbformat_minor": 2
}
