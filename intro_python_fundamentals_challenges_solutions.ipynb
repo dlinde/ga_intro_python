{
 "cells": [
  {
   "cell_type": "markdown",
   "metadata": {},
   "source": [
    "### Programming Fundamentals Framework\n",
    "\n",
    "The core components of Python.\n",
    "\n",
    "* Syntax\n",
    "    * The set of rules that define the combinations of symbols that are considered to be correctly structured programs in that language.\n",
    "* Variables\n",
    "    * How computers store information\n",
    "* Control Structures\n",
    "    * Sets the hierarchy/priorities of programming logic\n",
    "* Data Structures\n",
    "    * How computers store and organize data\n"
   ]
  },
  {
   "cell_type": "code",
   "execution_count": null,
   "metadata": {
    "collapsed": true
   },
   "outputs": [],
   "source": [
    "# what are you seeing here? Take a couple minutes to look at this.\n",
    "\n",
    "# what is some syntax you can infer from looking at this?\n",
    "# what are some variables in the code below?\n",
    "# what looks like an example of a control structure?\n",
    "# what looks like an example of a data structure?\n",
    "\n",
    "midpoint = 5 \n",
    "\n",
    "lower = [] \n",
    "upper = []\n",
    "\n",
    "for i in range(0,10):       \n",
    "    if (i < midpoint):  \n",
    "        lower.append(i)  \n",
    "    else:                \n",
    "        upper.append(i)  \n",
    "          \n",
    "print(\"lower:\", lower)\n",
    "print(\"upper:\", upper)"
   ]
  },
  {
   "cell_type": "markdown",
   "metadata": {},
   "source": [
    "### variables: symbolic names that each store some specific piece of information.\n",
    "* names are cases sensitive\n",
    "* the = assignment operator defines variable\n",
    "* variables can be many different types "
   ]
  },
  {
   "cell_type": "code",
   "execution_count": 1,
   "metadata": {},
   "outputs": [
    {
     "name": "stdout",
     "output_type": "stream",
     "text": [
      "<class 'int'>\n",
      "<class 'float'>\n",
      "<class 'str'>\n",
      "<class 'bool'>\n"
     ]
    }
   ],
   "source": [
    "\n",
    "midpoint = 5 \n",
    "print(type(midpoint))\n",
    "\n",
    "\n",
    "\n",
    "midpoint = 5.0\n",
    "print(type(midpoint))\n",
    "midpoint = '5'\n",
    "print(type(midpoint))\n",
    "midpoint = True\n",
    "print(type(midpoint))\n",
    "\n",
    "# each time we assign the variable midpoint, we overwrite it\n",
    "# what does midpoint equal after running this block?"
   ]
  },
  {
   "cell_type": "markdown",
   "metadata": {},
   "source": [
    "### Data Structures\n",
    "* Each data structure is a particular way of storing and organizing data in a computer \n",
    "* [ ] are used for lists"
   ]
  },
  {
   "cell_type": "code",
   "execution_count": 2,
   "metadata": {
    "collapsed": true
   },
   "outputs": [],
   "source": [
    "# assigning empty lists to variable\n",
    "lower = [] \n",
    "upper = []"
   ]
  },
  {
   "cell_type": "code",
   "execution_count": 3,
   "metadata": {},
   "outputs": [
    {
     "data": {
      "text/plain": [
       "[]"
      ]
     },
     "execution_count": 3,
     "metadata": {},
     "output_type": "execute_result"
    }
   ],
   "source": [
    "lower"
   ]
  },
  {
   "cell_type": "code",
   "execution_count": 5,
   "metadata": {},
   "outputs": [
    {
     "data": {
      "text/plain": [
       "[5, 6]"
      ]
     },
     "execution_count": 5,
     "metadata": {},
     "output_type": "execute_result"
    }
   ],
   "source": [
    "# lists are mutable - note below that .append is a built-in method we can use to modify lists\n",
    "#lower.append(5)\n",
    "lower.append(6)\n",
    "lower"
   ]
  },
  {
   "cell_type": "code",
   "execution_count": 6,
   "metadata": {},
   "outputs": [
    {
     "data": {
      "text/plain": [
       "'Linde'"
      ]
     },
     "execution_count": 6,
     "metadata": {},
     "output_type": "execute_result"
    }
   ],
   "source": [
    "# lists can also be 'sliced' by passing in an index to get specific elements\n",
    "my_list = ['Dimitri', 'Linde']\n",
    "my_list[1]"
   ]
  },
  {
   "cell_type": "markdown",
   "metadata": {},
   "source": [
    "### Control-flow statement \n",
    "\n",
    "A block of programming that analyzes variables and chooses which code to execute next based on logical conditions.. The main control flow statements are for, if/elif/else, and while."
   ]
  },
  {
   "cell_type": "code",
   "execution_count": 8,
   "metadata": {},
   "outputs": [
    {
     "name": "stdout",
     "output_type": "stream",
     "text": [
      "0\n",
      "1\n",
      "2\n",
      "3\n",
      "4\n",
      "5\n",
      "6\n",
      "7\n",
      "8\n",
      "9\n"
     ]
    }
   ],
   "source": [
    "# syntax: note the indented block after the for loop. Indented blocks are always preceded by a ':'\n",
    "\n",
    "# range is a built-in function that provides a range of numbers to iterate through\n",
    "# i is a variable we use to iterate through the range; we could call it anything\n",
    "\n",
    "for puppy in range(0,10):\n",
    "    print(puppy)"
   ]
  },
  {
   "cell_type": "code",
   "execution_count": 12,
   "metadata": {},
   "outputs": [
    {
     "data": {
      "text/plain": [
       "[3]"
      ]
     },
     "execution_count": 12,
     "metadata": {},
     "output_type": "execute_result"
    }
   ],
   "source": [
    "i = 3\n",
    "midpoint = 5\n",
    "lower = []\n",
    "\n",
    "# If the condition evaluates to true, run the code block\n",
    "if i != midpoint:   \n",
    "    lower.append(i)\n",
    "    \n",
    "lower\n",
    "    \n",
    "# Note the comparison operator (<) here. We could change the result by changing the operators to less than or equal \n",
    "# to (<=), equal to (==), not equal to (!=), etc."
   ]
  },
  {
   "cell_type": "code",
   "execution_count": 15,
   "metadata": {},
   "outputs": [
    {
     "data": {
      "text/plain": [
       "[7]"
      ]
     },
     "execution_count": 15,
     "metadata": {},
     "output_type": "execute_result"
    }
   ],
   "source": [
    "# if statements commonly have some alternative condition\n",
    "i = 7\n",
    "upper=[]\n",
    "\n",
    "if (i < midpoint):   \n",
    "    lower.append(i) \n",
    "else:\n",
    "    upper.append(i)\n",
    "    \n",
    "upper"
   ]
  },
  {
   "cell_type": "code",
   "execution_count": 16,
   "metadata": {},
   "outputs": [
    {
     "name": "stdout",
     "output_type": "stream",
     "text": [
      "lower: [0, 1, 2, 3, 4]\n",
      "upper: [5, 6, 7, 8, 9]\n"
     ]
    }
   ],
   "source": [
    "# putting this all together\n",
    "\n",
    "# set the midpoint  variable\n",
    "midpoint = 5 \n",
    "\n",
    "# make two empty lists\n",
    "lower = [] \n",
    "upper = []\n",
    "\n",
    "# split the numbers into lower and upper\n",
    "\n",
    "for i in range(0,10):       \n",
    "    if (i < midpoint):  \n",
    "        lower.append(i)  \n",
    "    else:                \n",
    "        upper.append(i)  \n",
    "        \n",
    "# print the results     \n",
    "print(\"lower:\", lower)\n",
    "print(\"upper:\", upper)"
   ]
  },
  {
   "cell_type": "markdown",
   "metadata": {},
   "source": [
    "### Functions\n",
    "* a block of code which only runs when it is called\n",
    "* typically we pass data, known as parameters, into a function (inside the parentheses)\n",
    "* in functions, we'll typically modify or create a new variable and want to return it\n",
    "* we use functions because they're abstractions of common tasks that make code more reusable\n",
    "* functions need to be defined before they can be executed"
   ]
  },
  {
   "cell_type": "code",
   "execution_count": 17,
   "metadata": {
    "collapsed": true
   },
   "outputs": [],
   "source": [
    "def my_function():\n",
    "    print('you called me!')"
   ]
  },
  {
   "cell_type": "code",
   "execution_count": 18,
   "metadata": {},
   "outputs": [
    {
     "name": "stdout",
     "output_type": "stream",
     "text": [
      "you called me!\n"
     ]
    }
   ],
   "source": [
    "my_function()"
   ]
  },
  {
   "cell_type": "code",
   "execution_count": 19,
   "metadata": {
    "collapsed": true
   },
   "outputs": [],
   "source": [
    "def my_function(name):\n",
    "    print(str(name)+', you called me!')"
   ]
  },
  {
   "cell_type": "code",
   "execution_count": 20,
   "metadata": {},
   "outputs": [
    {
     "name": "stdout",
     "output_type": "stream",
     "text": [
      "Carol, you called me!\n"
     ]
    }
   ],
   "source": [
    "my_function('Carol')"
   ]
  },
  {
   "cell_type": "code",
   "execution_count": 21,
   "metadata": {
    "collapsed": true
   },
   "outputs": [],
   "source": [
    "# provide two scorelines\n",
    "def football_score(pats_score, rams_score):\n",
    "    # add them together\n",
    "    total_points = pats_score+rams_score\n",
    "    # return the sum\n",
    "    return total_points"
   ]
  },
  {
   "cell_type": "code",
   "execution_count": 23,
   "metadata": {},
   "outputs": [
    {
     "data": {
      "text/plain": [
       "32"
      ]
     },
     "execution_count": 23,
     "metadata": {},
     "output_type": "execute_result"
    }
   ],
   "source": [
    "points = football_score(27,5)\n",
    "\n",
    "points"
   ]
  },
  {
   "cell_type": "code",
   "execution_count": 32,
   "metadata": {
    "collapsed": true
   },
   "outputs": [],
   "source": [
    "# I'm writing out the steps to creating my function using pseudocode to help me think about the python code to write\n",
    "\n",
    "def two_lists(min_number, max_number):\n",
    "    # set a midpoint  variable\n",
    "    midpoint = (min_number+max_number)/2\n",
    "\n",
    "    # make two empty lists\n",
    "    upper= []\n",
    "    lower = []\n",
    "\n",
    "    # iterate through each number in a range of numbers\n",
    "    for i in range(min_number,max_number+1):\n",
    "        # if the number is less than the midpoint\n",
    "        if i < midpoint:\n",
    "            # append it to the lower list\n",
    "            lower.append(i)\n",
    "            #otherwise, append it to the upper list\n",
    "        else:\n",
    "            upper.append(i)\n",
    "            \n",
    "    # return both lists\n",
    "    return  lower, upper"
   ]
  },
  {
   "cell_type": "code",
   "execution_count": 33,
   "metadata": {},
   "outputs": [
    {
     "name": "stdout",
     "output_type": "stream",
     "text": [
      "[150, 151, 152, 153, 154, 155, 156, 157, 158, 159]\n",
      "[160, 161, 162, 163, 164, 165, 166, 167, 168, 169, 170]\n"
     ]
    }
   ],
   "source": [
    "lesser_list, greater_list = two_lists(150,170)\n",
    "print(lesser_list)\n",
    "print(greater_list)"
   ]
  },
  {
   "cell_type": "markdown",
   "metadata": {},
   "source": [
    "# Challenge Problems 1\n",
    "* Hints\n",
    "    * The print function requires parentheses in python 3\n",
    "    * Float values have a decimal place\n",
    "    * The range function takes a start value and a stop value"
   ]
  },
  {
   "cell_type": "markdown",
   "metadata": {},
   "source": [
    "### Create a variable holding a string and output it using print(). "
   ]
  },
  {
   "cell_type": "code",
   "execution_count": 34,
   "metadata": {},
   "outputs": [
    {
     "name": "stdout",
     "output_type": "stream",
     "text": [
      "Dimitri\n"
     ]
    }
   ],
   "source": [
    "name = 'Dimitri'\n",
    "print(name)"
   ]
  },
  {
   "cell_type": "markdown",
   "metadata": {},
   "source": [
    "### Create a variable holding a float and add it to a variable holding an integer."
   ]
  },
  {
   "cell_type": "code",
   "execution_count": 35,
   "metadata": {},
   "outputs": [
    {
     "data": {
      "text/plain": [
       "5.0"
      ]
     },
     "execution_count": 35,
     "metadata": {},
     "output_type": "execute_result"
    }
   ],
   "source": [
    "float_var = 3.\n",
    "int_var = 2\n",
    "float_var+int_var"
   ]
  },
  {
   "cell_type": "markdown",
   "metadata": {},
   "source": [
    "### Create a list including your first and last name and index the list to print your first name"
   ]
  },
  {
   "cell_type": "code",
   "execution_count": 2,
   "metadata": {},
   "outputs": [
    {
     "data": {
      "text/plain": [
       "'first'"
      ]
     },
     "execution_count": 2,
     "metadata": {},
     "output_type": "execute_result"
    }
   ],
   "source": [
    "list_var = ['first','last']\n",
    "list_var[0]"
   ]
  },
  {
   "cell_type": "markdown",
   "metadata": {},
   "source": [
    "### Use a for loop to add each number in a range to an integer variable and print the total"
   ]
  },
  {
   "cell_type": "code",
   "execution_count": 39,
   "metadata": {},
   "outputs": [
    {
     "data": {
      "text/plain": [
       "500500"
      ]
     },
     "execution_count": 39,
     "metadata": {},
     "output_type": "execute_result"
    }
   ],
   "source": [
    "running_total = 0\n",
    "for i in range(1,1001):\n",
    "    running_total = running_total+i\n",
    "running_total"
   ]
  },
  {
   "cell_type": "markdown",
   "metadata": {},
   "source": [
    "### Create a variable containing a number for bag weight and write an if condition that yields one charge if the weight is less than 50 and another charge if the weight is more than 50"
   ]
  },
  {
   "cell_type": "code",
   "execution_count": 47,
   "metadata": {},
   "outputs": [
    {
     "name": "stdout",
     "output_type": "stream",
     "text": [
      "$100 charge\n"
     ]
    }
   ],
   "source": [
    "bagweight = 51\n",
    "charge = 0\n",
    "if bagweight > 50:\n",
    "    charge=100\n",
    "print ('$'+str(charge)+' charge')\n"
   ]
  },
  {
   "cell_type": "markdown",
   "metadata": {},
   "source": [
    "### Turn your if statement into a function"
   ]
  },
  {
   "cell_type": "code",
   "execution_count": 10,
   "metadata": {
    "collapsed": true
   },
   "outputs": [],
   "source": [
    "def my_func(bagweight, charge=0):\n",
    "    if bagweight > 50:\n",
    "        charge=100\n",
    "    return '$'+str(charge)+' charge'\n"
   ]
  },
  {
   "cell_type": "code",
   "execution_count": 11,
   "metadata": {},
   "outputs": [
    {
     "data": {
      "text/plain": [
       "'$0 charge'"
      ]
     },
     "execution_count": 11,
     "metadata": {},
     "output_type": "execute_result"
    }
   ],
   "source": [
    "my_func(25)"
   ]
  },
  {
   "cell_type": "markdown",
   "metadata": {
    "collapsed": true
   },
   "source": [
    "# Challenge Problems 2\n",
    "* Hints\n",
    "    * In python, float(4) yields 4.0\n",
    "    * The % (modulo) operator yields the remainder from the division of the first argument by the second.\n",
    "    * Be sure to include a return statement in your function"
   ]
  },
  {
   "cell_type": "markdown",
   "metadata": {},
   "source": [
    "### Create a string variable and an integer variable, then concatenate them together (e.g. ’15dog’) and print the result"
   ]
  },
  {
   "cell_type": "code",
   "execution_count": 61,
   "metadata": {},
   "outputs": [
    {
     "data": {
      "text/plain": [
       "'5050'"
      ]
     },
     "execution_count": 61,
     "metadata": {},
     "output_type": "execute_result"
    }
   ],
   "source": [
    "some_var1='50'\n",
    "some_var2=50\n",
    "# we need to convert the numeric variable to a string to concatenate it with the string variable\n",
    "some_var1+str(some_var2)"
   ]
  },
  {
   "cell_type": "markdown",
   "metadata": {},
   "source": [
    "### Create a dictionary with cats as a key and a list of ‘tabby’ and ‘maine coon’ as the corresponding values, then return ‘maine coon’ from the dictionary\n"
   ]
  },
  {
   "cell_type": "code",
   "execution_count": 3,
   "metadata": {},
   "outputs": [
    {
     "data": {
      "text/plain": [
       "['tabby', 'maine_coon']"
      ]
     },
     "execution_count": 3,
     "metadata": {},
     "output_type": "execute_result"
    }
   ],
   "source": [
    "# make the dictionary\n",
    "cats_dict = {}\n",
    "cats_dict['cats']=['tabby','maine_coon']\n",
    "# index the dictionary with the key - we isolate the value, which is a list\n",
    "cats_dict['cats']"
   ]
  },
  {
   "cell_type": "code",
   "execution_count": 4,
   "metadata": {},
   "outputs": [
    {
     "data": {
      "text/plain": [
       "'maine_coon'"
      ]
     },
     "execution_count": 4,
     "metadata": {},
     "output_type": "execute_result"
    }
   ],
   "source": [
    "# index the list\n",
    "cats_dict['cats'][1]"
   ]
  },
  {
   "cell_type": "markdown",
   "metadata": {},
   "source": [
    "### Use a for loop to iterate through a range of numbers between 0 and 100 and print the sum of numbers divisible by 5\n"
   ]
  },
  {
   "cell_type": "code",
   "execution_count": 66,
   "metadata": {},
   "outputs": [
    {
     "data": {
      "text/plain": [
       "1050"
      ]
     },
     "execution_count": 66,
     "metadata": {},
     "output_type": "execute_result"
    }
   ],
   "source": [
    "# set a counter\n",
    "#tally = 0\n",
    "tally=[]\n",
    "for i in range(1,101):\n",
    "    #check if divisible by 5\n",
    "    if i%5==0:\n",
    "        #tally+=i\n",
    "        tally.append(i)\n",
    "sum(tally)"
   ]
  },
  {
   "cell_type": "markdown",
   "metadata": {},
   "source": [
    "### Write a function that takes two years that *should be numeric* as inputs, calculates the delta between them, and returns the delta, unless the computation would produce an error, in which case return 0"
   ]
  },
  {
   "cell_type": "code",
   "execution_count": null,
   "metadata": {
    "collapsed": true
   },
   "outputs": [],
   "source": [
    "# break this into steps - if we assume the years are always numeric, the problem is very simple\n",
    "def year_delta(year1, year2):\n",
    "    # abs takes the absolute value of the number\n",
    "    delta = abs(year1 - year2)\n",
    "    return delta"
   ]
  },
  {
   "cell_type": "code",
   "execution_count": 72,
   "metadata": {},
   "outputs": [
    {
     "data": {
      "text/plain": [
       "0"
      ]
     },
     "execution_count": 72,
     "metadata": {},
     "output_type": "execute_result"
    }
   ],
   "source": [
    "# but what if the years are not numeric\n",
    "def year_delta(year1, year2):\n",
    "    # we learned try except for that - try in the case they are\n",
    "    try:\n",
    "        delta = abs(year1 - year2)\n",
    "        return delta\n",
    "    # default to except when they're not\n",
    "    except:\n",
    "        return 0\n",
    "year_delta(2010,'garbage')"
   ]
  },
  {
   "cell_type": "markdown",
   "metadata": {},
   "source": [
    "# Bonus\n",
    "\n",
    "### Largest Palindrome\n",
    "A palindromic number reads the same both ways. For example, 1234321 is a palindrome. The largest palindrome made from the product of two two-digit numbers is 9009 = 91 × 99. Find the largest palindrome made from the product of two three-digit numbers."
   ]
  },
  {
   "cell_type": "code",
   "execution_count": null,
   "metadata": {
    "collapsed": true
   },
   "outputs": [],
   "source": []
  }
 ],
 "metadata": {
  "kernelspec": {
   "display_name": "Python 3",
   "language": "python",
   "name": "python3"
  },
  "language_info": {
   "codemirror_mode": {
    "name": "ipython",
    "version": 3
   },
   "file_extension": ".py",
   "mimetype": "text/x-python",
   "name": "python",
   "nbconvert_exporter": "python",
   "pygments_lexer": "ipython3",
   "version": "3.6.1"
  }
 },
 "nbformat": 4,
 "nbformat_minor": 2
}
