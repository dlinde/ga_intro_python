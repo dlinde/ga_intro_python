{
 "cells": [
  {
   "cell_type": "markdown",
   "metadata": {},
   "source": [
    "# Python Syntax\n",
    "\n",
    "The set of rules that define the combinations of symbols that are considered to be correctly structured programs in that language.\n"
   ]
  },
  {
   "cell_type": "code",
   "execution_count": 17,
   "metadata": {},
   "outputs": [
    {
     "name": "stdout",
     "output_type": "stream",
     "text": [
      "<class 'int'>\n",
      "<class 'float'>\n",
      "<class 'str'>\n",
      "<class 'bool'>\n"
     ]
    }
   ],
   "source": [
    "# variables: symbolic names that each store some specific piece of information.\n",
    "# names are cases sensitive\n",
    "# the = operator defines variable\n",
    "midpoint = 5 \n",
    "print(type(midpoint))\n",
    "\n",
    "# variables can be many different types \n",
    "\n",
    "midpoint = 5.0\n",
    "print(type(midpoint))\n",
    "midpoint = '5'\n",
    "print(type(midpoint))\n",
    "midpoint = True\n",
    "print(type(midpoint))"
   ]
  },
  {
   "cell_type": "code",
   "execution_count": 18,
   "metadata": {
    "collapsed": true
   },
   "outputs": [],
   "source": [
    "# Data Structures: lists are a common data structure. Each data structure is a particular way of storing\n",
    "# and organizing data in a computer \n",
    "\n",
    "lower = [] \n",
    "upper = []"
   ]
  },
  {
   "cell_type": "code",
   "execution_count": 19,
   "metadata": {},
   "outputs": [
    {
     "data": {
      "text/plain": [
       "[]"
      ]
     },
     "execution_count": 19,
     "metadata": {},
     "output_type": "execute_result"
    }
   ],
   "source": [
    "lower"
   ]
  },
  {
   "cell_type": "code",
   "execution_count": 20,
   "metadata": {},
   "outputs": [
    {
     "data": {
      "text/plain": [
       "[5]"
      ]
     },
     "execution_count": 20,
     "metadata": {},
     "output_type": "execute_result"
    }
   ],
   "source": [
    "# lists are mutable - note below that .append is a built-in method we can use to modify lists\n",
    "lower.append(5)\n",
    "lower"
   ]
  },
  {
   "cell_type": "code",
   "execution_count": 25,
   "metadata": {},
   "outputs": [
    {
     "data": {
      "text/plain": [
       "'Linde'"
      ]
     },
     "execution_count": 25,
     "metadata": {},
     "output_type": "execute_result"
    }
   ],
   "source": [
    "# lists can also be 'sliced' by passing in an index to get specific elements\n",
    "my_list = ['Dimitri', 'Linde']\n",
    "my_list[1]"
   ]
  },
  {
   "cell_type": "code",
   "execution_count": 22,
   "metadata": {},
   "outputs": [
    {
     "data": {
      "text/plain": [
       "{'Dimitri': 'Linde'}"
      ]
     },
     "execution_count": 22,
     "metadata": {},
     "output_type": "execute_result"
    }
   ],
   "source": [
    "# another common data structure is a dictionary, which holds key value pairs\n",
    "my_dict = {}\n",
    "my_dict['Dimitri']='Linde'\n",
    "my_dict"
   ]
  },
  {
   "cell_type": "code",
   "execution_count": 23,
   "metadata": {},
   "outputs": [
    {
     "data": {
      "text/plain": [
       "'Linde'"
      ]
     },
     "execution_count": 23,
     "metadata": {},
     "output_type": "execute_result"
    }
   ],
   "source": [
    "# dictionaries are indexed by keys (so unlike in lists, the orders of elements are irrelevant)\n",
    "my_dict['Dimitri']"
   ]
  },
  {
   "cell_type": "code",
   "execution_count": 26,
   "metadata": {},
   "outputs": [
    {
     "name": "stdout",
     "output_type": "stream",
     "text": [
      "0\n",
      "1\n",
      "2\n",
      "3\n",
      "4\n",
      "5\n",
      "6\n",
      "7\n",
      "8\n",
      "9\n"
     ]
    }
   ],
   "source": [
    "# Control-flow statement: A block of programming that analyzes variables and chooses \n",
    "# which code to execute next. For loops and if statements are examples of control-flow statements.\n",
    "\n",
    "# syntax: note the indented block after the for loop. Indented blocks are always preceded by a ':'\n",
    "\n",
    "for i in range(0,10):\n",
    "    print(i)"
   ]
  },
  {
   "cell_type": "code",
   "execution_count": 27,
   "metadata": {
    "collapsed": true
   },
   "outputs": [],
   "source": [
    "i = 2\n",
    "midpoint = 5\n",
    "lower = []\n",
    "\n",
    "# If the condition evaluates to true, run the code block\n",
    "if i < midpoint:   \n",
    "    lower.append(i)  \n",
    "    \n",
    "# Note the comparison operator (<) here. We could change the result by changing the operators to less than or equal \n",
    "# to (<=), equal to (==), not equal to (!=), etc."
   ]
  },
  {
   "cell_type": "code",
   "execution_count": 29,
   "metadata": {},
   "outputs": [
    {
     "data": {
      "text/plain": [
       "[7]"
      ]
     },
     "execution_count": 29,
     "metadata": {},
     "output_type": "execute_result"
    }
   ],
   "source": [
    "# if statements commonly have some alternative condition\n",
    "i = 7\n",
    "upper=[]\n",
    "\n",
    "if (i < midpoint):   \n",
    "    lower.append(i) \n",
    "else:\n",
    "    upper.append(i)\n",
    "    \n",
    "upper"
   ]
  },
  {
   "cell_type": "code",
   "execution_count": 30,
   "metadata": {},
   "outputs": [
    {
     "name": "stdout",
     "output_type": "stream",
     "text": [
      "lower: [0, 1, 2, 3, 4]\n",
      "upper: [5, 6, 7, 8, 9]\n"
     ]
    }
   ],
   "source": [
    "# putting this all together\n",
    "\n",
    "# set the midpoint  variable\n",
    "midpoint = 5 \n",
    "\n",
    "# make two empty lists\n",
    "lower = [] \n",
    "upper = []\n",
    "\n",
    "# split the numbers into lower and upper\n",
    "\n",
    "for i in range(0,10):       \n",
    "    if (i < midpoint):  \n",
    "        lower.append(i)  \n",
    "    else:                \n",
    "        upper.append(i)  \n",
    "        \n",
    "# print the results     \n",
    "print(\"lower:\", lower)\n",
    "print(\"upper:\", upper)"
   ]
  },
  {
   "cell_type": "code",
   "execution_count": 31,
   "metadata": {
    "collapsed": true
   },
   "outputs": [],
   "source": [
    "# A function is a block of code which only runs when it is called.\n",
    "def my_function():\n",
    "    print('you called me!')"
   ]
  },
  {
   "cell_type": "code",
   "execution_count": 32,
   "metadata": {},
   "outputs": [
    {
     "name": "stdout",
     "output_type": "stream",
     "text": [
      "you called me!\n"
     ]
    }
   ],
   "source": [
    "my_function()"
   ]
  },
  {
   "cell_type": "code",
   "execution_count": 33,
   "metadata": {
    "collapsed": true
   },
   "outputs": [],
   "source": [
    "# typically we pass data, known as parameters, into a function (inside the parentheses)\n",
    "def my_function(name):\n",
    "    print(str(name)+', you called me!')"
   ]
  },
  {
   "cell_type": "code",
   "execution_count": 35,
   "metadata": {},
   "outputs": [
    {
     "name": "stdout",
     "output_type": "stream",
     "text": [
      "Carol, you called me!\n"
     ]
    }
   ],
   "source": [
    "my_function('Carol')"
   ]
  },
  {
   "cell_type": "code",
   "execution_count": 8,
   "metadata": {
    "collapsed": true
   },
   "outputs": [],
   "source": [
    "# in functions, we'll typically modify or create a new variable and want to return it\n",
    "\n",
    "def football_score(pats_score, rams_score):\n",
    "    total_points = pats_score+rams_score\n",
    "    return total_points"
   ]
  },
  {
   "cell_type": "code",
   "execution_count": 38,
   "metadata": {},
   "outputs": [
    {
     "data": {
      "text/plain": [
       "16"
      ]
     },
     "execution_count": 38,
     "metadata": {},
     "output_type": "execute_result"
    }
   ],
   "source": [
    "points = football_score(13,3)\n",
    "points"
   ]
  },
  {
   "cell_type": "code",
   "execution_count": 39,
   "metadata": {
    "collapsed": true
   },
   "outputs": [],
   "source": [
    "# we use functions because they're abstractions of common tasks that make code more reusable\n",
    "def two_lists(min_number, max_number):\n",
    "    \"\"\"add code here\"\"\"\n",
    "    # set the midpoint  variable\n",
    "    midpoint = (min_number+max_number)/2\n",
    "\n",
    "    # make two empty lists\n",
    "    lower = [] \n",
    "    upper = []\n",
    "\n",
    "    # split the numbers into lower and upper\n",
    "\n",
    "    for i in range(min_number,max_number):       \n",
    "        if (i < midpoint):  \n",
    "            lower.append(i)  \n",
    "        else:                \n",
    "            upper.append(i)  \n",
    "    return lower, upper"
   ]
  },
  {
   "cell_type": "code",
   "execution_count": 41,
   "metadata": {},
   "outputs": [
    {
     "name": "stdout",
     "output_type": "stream",
     "text": [
      "[30, 31, 32, 33, 34]\n",
      "[35, 36, 37, 38, 39]\n"
     ]
    }
   ],
   "source": [
    "#functions need to be defined before they can be executed\n",
    "\n",
    "lesser_list, greater_list = two_lists(30,40)\n",
    "print(lesser_list)\n",
    "print(greater_list)"
   ]
  },
  {
   "cell_type": "markdown",
   "metadata": {},
   "source": [
    "### Create a variable holding a string and output it using print(). "
   ]
  },
  {
   "cell_type": "code",
   "execution_count": 42,
   "metadata": {},
   "outputs": [
    {
     "name": "stdout",
     "output_type": "stream",
     "text": [
      "blue\n"
     ]
    }
   ],
   "source": [
    "green = 'blue'\n",
    "print(green)"
   ]
  },
  {
   "cell_type": "markdown",
   "metadata": {},
   "source": [
    "### Create a variable holding a float and add it to a variable holding an integer."
   ]
  },
  {
   "cell_type": "code",
   "execution_count": 43,
   "metadata": {},
   "outputs": [
    {
     "data": {
      "text/plain": [
       "14.0"
      ]
     },
     "execution_count": 43,
     "metadata": {},
     "output_type": "execute_result"
    }
   ],
   "source": [
    "float_var = 10.\n",
    "int_var = 4\n",
    "float_var+int_var"
   ]
  },
  {
   "cell_type": "markdown",
   "metadata": {},
   "source": [
    "### Create a list including your first and last name and index the list to print your first name"
   ]
  },
  {
   "cell_type": "code",
   "execution_count": 44,
   "metadata": {},
   "outputs": [
    {
     "data": {
      "text/plain": [
       "'first'"
      ]
     },
     "execution_count": 44,
     "metadata": {},
     "output_type": "execute_result"
    }
   ],
   "source": [
    "my_list = ['first','last']\n",
    "my_list[0]"
   ]
  },
  {
   "cell_type": "markdown",
   "metadata": {},
   "source": [
    "### Use a for loop to add each number in a range to an integer variable and print the total"
   ]
  },
  {
   "cell_type": "code",
   "execution_count": 45,
   "metadata": {},
   "outputs": [
    {
     "data": {
      "text/plain": [
       "45"
      ]
     },
     "execution_count": 45,
     "metadata": {},
     "output_type": "execute_result"
    }
   ],
   "source": [
    "# initialize a variable to store the sum\n",
    "sum_var = 0\n",
    "\n",
    "# write the for loop, iterating through a range - remember to add the colon at the end\n",
    "for i in range(1,10):\n",
    "    # inside the loop, add each number to the variable\n",
    "\n",
    "    sum_var = sum_var+i\n",
    "\n",
    "# after the loop finishes, so outside the block, print the variable\n",
    "sum_var"
   ]
  },
  {
   "cell_type": "markdown",
   "metadata": {},
   "source": [
    "### Create a variable containing a number for bag weight and write an if condition that yields one charge if the weight is less than 50 and another charge if the weight is more than 50\n"
   ]
  },
  {
   "cell_type": "code",
   "execution_count": 46,
   "metadata": {},
   "outputs": [
    {
     "name": "stdout",
     "output_type": "stream",
     "text": [
      "airline charging me\n"
     ]
    }
   ],
   "source": [
    "# my bag weighs 60 pounds\n",
    "bag = 60\n",
    "# the airline is going to charge me because it weighs more than 50 pounds. It would be free otherwise.\n"
   ]
  },
  {
   "cell_type": "markdown",
   "metadata": {},
   "source": [
    "### Turn your if statement into a function"
   ]
  },
  {
   "cell_type": "code",
   "execution_count": 47,
   "metadata": {
    "collapsed": true
   },
   "outputs": [],
   "source": [
    "def check_bag(bag):\n",
    "    if bag>50:\n",
    "        charge =50\n",
    "    else:\n",
    "        charge = 0\n",
    "    return charge"
   ]
  },
  {
   "cell_type": "code",
   "execution_count": 49,
   "metadata": {},
   "outputs": [
    {
     "data": {
      "text/plain": [
       "50"
      ]
     },
     "execution_count": 49,
     "metadata": {},
     "output_type": "execute_result"
    }
   ],
   "source": [
    "check_bag(75)"
   ]
  }
 ],
 "metadata": {
  "kernelspec": {
   "display_name": "Python 3",
   "language": "python",
   "name": "python3"
  },
  "language_info": {
   "codemirror_mode": {
    "name": "ipython",
    "version": 3
   },
   "file_extension": ".py",
   "mimetype": "text/x-python",
   "name": "python",
   "nbconvert_exporter": "python",
   "pygments_lexer": "ipython3",
   "version": "3.6.1"
  }
 },
 "nbformat": 4,
 "nbformat_minor": 2
}
